{
  "cells": [
    {
      "cell_type": "markdown",
      "metadata": {
        "id": "view-in-github",
        "colab_type": "text"
      },
      "source": [
        "<a href=\"https://colab.research.google.com/github/JasminPradhan/Achiever/blob/main/Deepfake_AD_.ipynb\" target=\"_parent\"><img src=\"https://colab.research.google.com/assets/colab-badge.svg\" alt=\"Open In Colab\"/></a>"
      ]
    },
    {
      "cell_type": "code",
      "source": [
        "!huggingface-cli login"
      ],
      "metadata": {
        "colab": {
          "base_uri": "https://localhost:8080/"
        },
        "id": "LwQP2T7-V4sC",
        "outputId": "991fbabb-5f1c-45e6-b485-f54aee8ffcce"
      },
      "execution_count": 1,
      "outputs": [
        {
          "output_type": "stream",
          "name": "stdout",
          "text": [
            "\n",
            "    _|    _|  _|    _|    _|_|_|    _|_|_|  _|_|_|  _|      _|    _|_|_|      _|_|_|_|    _|_|      _|_|_|  _|_|_|_|\n",
            "    _|    _|  _|    _|  _|        _|          _|    _|_|    _|  _|            _|        _|    _|  _|        _|\n",
            "    _|_|_|_|  _|    _|  _|  _|_|  _|  _|_|    _|    _|  _|  _|  _|  _|_|      _|_|_|    _|_|_|_|  _|        _|_|_|\n",
            "    _|    _|  _|    _|  _|    _|  _|    _|    _|    _|    _|_|  _|    _|      _|        _|    _|  _|        _|\n",
            "    _|    _|    _|_|      _|_|_|    _|_|_|  _|_|_|  _|      _|    _|_|_|      _|        _|    _|    _|_|_|  _|_|_|_|\n",
            "\n",
            "    To log in, `huggingface_hub` requires a token generated from https://huggingface.co/settings/tokens .\n",
            "Enter your token (input will not be visible): \n",
            "Add token as git credential? (Y/n) y\n",
            "Token is valid (permission: fineGrained).\n",
            "The token `deepfake_audio` has been saved to /root/.cache/huggingface/stored_tokens\n",
            "\u001b[1m\u001b[31mCannot authenticate through git-credential as no helper is defined on your machine.\n",
            "You might have to re-authenticate when pushing to the Hugging Face Hub.\n",
            "Run the following command in your terminal in case you want to set the 'store' credential helper as default.\n",
            "\n",
            "git config --global credential.helper store\n",
            "\n",
            "Read https://git-scm.com/book/en/v2/Git-Tools-Credential-Storage for more details.\u001b[0m\n",
            "Token has not been saved to git credential helper.\n",
            "Your token has been saved to /root/.cache/huggingface/token\n",
            "Login successful.\n",
            "The current active token is: `deepfake_audio`\n"
          ]
        }
      ]
    },
    {
      "cell_type": "code",
      "execution_count": 2,
      "metadata": {
        "colab": {
          "base_uri": "https://localhost:8080/"
        },
        "id": "rCXCpcHEQoPg",
        "outputId": "112d4c10-1cac-4013-9af1-efa7db304062"
      },
      "outputs": [
        {
          "output_type": "stream",
          "name": "stdout",
          "text": [
            "Requirement already satisfied: torch in /usr/local/lib/python3.11/dist-packages (2.5.1+cpu)\n",
            "Requirement already satisfied: torchaudio in /usr/local/lib/python3.11/dist-packages (2.5.1+cpu)\n",
            "Requirement already satisfied: torchvision in /usr/local/lib/python3.11/dist-packages (0.20.1+cpu)\n",
            "Requirement already satisfied: transformers in /usr/local/lib/python3.11/dist-packages (4.48.2)\n",
            "Requirement already satisfied: scikit-learn in /usr/local/lib/python3.11/dist-packages (1.6.1)\n",
            "Requirement already satisfied: numpy in /usr/local/lib/python3.11/dist-packages (1.26.4)\n",
            "Requirement already satisfied: filelock in /usr/local/lib/python3.11/dist-packages (from torch) (3.17.0)\n",
            "Requirement already satisfied: typing-extensions>=4.8.0 in /usr/local/lib/python3.11/dist-packages (from torch) (4.12.2)\n",
            "Requirement already satisfied: networkx in /usr/local/lib/python3.11/dist-packages (from torch) (3.4.2)\n",
            "Requirement already satisfied: jinja2 in /usr/local/lib/python3.11/dist-packages (from torch) (3.1.5)\n",
            "Requirement already satisfied: fsspec in /usr/local/lib/python3.11/dist-packages (from torch) (2025.2.0)\n",
            "Requirement already satisfied: sympy==1.13.1 in /usr/local/lib/python3.11/dist-packages (from torch) (1.13.1)\n",
            "Requirement already satisfied: mpmath<1.4,>=1.1.0 in /usr/local/lib/python3.11/dist-packages (from sympy==1.13.1->torch) (1.3.0)\n",
            "Requirement already satisfied: pillow!=8.3.*,>=5.3.0 in /usr/local/lib/python3.11/dist-packages (from torchvision) (11.1.0)\n",
            "Requirement already satisfied: huggingface-hub<1.0,>=0.24.0 in /usr/local/lib/python3.11/dist-packages (from transformers) (0.28.1)\n",
            "Requirement already satisfied: packaging>=20.0 in /usr/local/lib/python3.11/dist-packages (from transformers) (24.2)\n",
            "Requirement already satisfied: pyyaml>=5.1 in /usr/local/lib/python3.11/dist-packages (from transformers) (6.0.2)\n",
            "Requirement already satisfied: regex!=2019.12.17 in /usr/local/lib/python3.11/dist-packages (from transformers) (2024.11.6)\n",
            "Requirement already satisfied: requests in /usr/local/lib/python3.11/dist-packages (from transformers) (2.32.3)\n",
            "Requirement already satisfied: tokenizers<0.22,>=0.21 in /usr/local/lib/python3.11/dist-packages (from transformers) (0.21.0)\n",
            "Requirement already satisfied: safetensors>=0.4.1 in /usr/local/lib/python3.11/dist-packages (from transformers) (0.5.2)\n",
            "Requirement already satisfied: tqdm>=4.27 in /usr/local/lib/python3.11/dist-packages (from transformers) (4.67.1)\n",
            "Requirement already satisfied: scipy>=1.6.0 in /usr/local/lib/python3.11/dist-packages (from scikit-learn) (1.13.1)\n",
            "Requirement already satisfied: joblib>=1.2.0 in /usr/local/lib/python3.11/dist-packages (from scikit-learn) (1.4.2)\n",
            "Requirement already satisfied: threadpoolctl>=3.1.0 in /usr/local/lib/python3.11/dist-packages (from scikit-learn) (3.5.0)\n",
            "Requirement already satisfied: MarkupSafe>=2.0 in /usr/local/lib/python3.11/dist-packages (from jinja2->torch) (3.0.2)\n",
            "Requirement already satisfied: charset-normalizer<4,>=2 in /usr/local/lib/python3.11/dist-packages (from requests->transformers) (3.4.1)\n",
            "Requirement already satisfied: idna<4,>=2.5 in /usr/local/lib/python3.11/dist-packages (from requests->transformers) (3.10)\n",
            "Requirement already satisfied: urllib3<3,>=1.21.1 in /usr/local/lib/python3.11/dist-packages (from requests->transformers) (2.3.0)\n",
            "Requirement already satisfied: certifi>=2017.4.17 in /usr/local/lib/python3.11/dist-packages (from requests->transformers) (2025.1.31)\n"
          ]
        }
      ],
      "source": [
        "!pip install torch torchaudio torchvision transformers scikit-learn numpy\n"
      ]
    },
    {
      "cell_type": "code",
      "source": [
        "!pip install torchaudio>=0.12.0 # Update torchaudio to include the 'Reverberate' transform"
      ],
      "metadata": {
        "id": "QzcLKcE37QNZ"
      },
      "execution_count": 3,
      "outputs": []
    },
    {
      "cell_type": "code",
      "source": [
        "import torch\n",
        "import torch.nn as nn\n",
        "import torchaudio.transforms as T\n",
        "import random\n",
        "from transformers import HubertForSequenceClassification\n",
        "from torch.cuda.amp import autocast, GradScaler\n",
        "import torch.optim as optim\n",
        "from sklearn.metrics import accuracy_score, precision_score, recall_score, f1_score\n",
        "from torch.utils.data import Dataset, DataLoader, random_split\n",
        "import torchaudio\n",
        "import os\n",
        "import zipfile\n",
        "from google.colab import drive\n",
        "import gc"
      ],
      "metadata": {
        "id": "YNkm1K4TV4dU"
      },
      "execution_count": 5,
      "outputs": []
    },
    {
      "cell_type": "code",
      "execution_count": 6,
      "metadata": {
        "id": "YKOA-BlPQ8MZ",
        "colab": {
          "base_uri": "https://localhost:8080/"
        },
        "outputId": "50dbae3b-563f-4d97-c809-94ab6f3e6875"
      },
      "outputs": [
        {
          "output_type": "stream",
          "name": "stdout",
          "text": [
            "Mounted at /content/drive\n"
          ]
        }
      ],
      "source": [
        "drive.mount('/content/drive')"
      ]
    },
    {
      "cell_type": "code",
      "source": [
        "dataset_zip_path = '/content/drive/MyDrive/audio_dataset.zip'\n"
      ],
      "metadata": {
        "id": "Kmpie2enX1Q_"
      },
      "execution_count": 7,
      "outputs": []
    },
    {
      "cell_type": "code",
      "source": [
        "import shutil\n",
        "shutil.rmtree('/content/dataset', ignore_errors=True)"
      ],
      "metadata": {
        "id": "7Oefw8QAjr8z"
      },
      "execution_count": 8,
      "outputs": []
    },
    {
      "cell_type": "code",
      "source": [
        "dataset_extract_path = \"/content/dataset\"\n",
        "\n",
        "# Create the extraction directory\n",
        "if not os.path.exists(dataset_extract_path):\n",
        "    os.makedirs(dataset_extract_path)\n",
        "\n",
        "# Unzip the dataset\n",
        "with zipfile.ZipFile(dataset_zip_path, 'r') as zip_ref:\n",
        "    zip_ref.extractall(dataset_extract_path)\n",
        "\n",
        "print(\"Dataset extracted successfully!\")"
      ],
      "metadata": {
        "colab": {
          "base_uri": "https://localhost:8080/"
        },
        "id": "TgseLieKj1l9",
        "outputId": "8d74298f-6b25-44b2-cd43-54e4b260e87f"
      },
      "execution_count": 9,
      "outputs": [
        {
          "output_type": "stream",
          "name": "stdout",
          "text": [
            "Dataset extracted successfully!\n"
          ]
        }
      ]
    },
    {
      "cell_type": "code",
      "source": [
        "def add_gaussian_noise(waveform, noise_level=0.005):\n",
        "    noise = torch.randn_like(waveform) * noise_level\n",
        "    return waveform + noise\n",
        "\n",
        "def time_masking(waveform, max_mask_pct=0.1):\n",
        "    num_samples = waveform.shape[-1]\n",
        "    mask_size = int(num_samples * max_mask_pct)\n",
        "    start = random.randint(0, num_samples - mask_size)\n",
        "    waveform[:, start:start + mask_size] = 0\n",
        "    return waveform\n",
        "\n",
        "# def pitch_shift(waveform, sample_rate, pitch_factor=2):\n",
        "#     transform = T.PitchShift(sample_rate=sample_rate, n_steps=pitch_factor)\n",
        "#     return transform(waveform)\n",
        "\n",
        "\n",
        "\n",
        "# def collate_fn(batch):\n",
        "#     waveforms, labels = zip(*batch)\n",
        "\n",
        "#     # Find the maximum length among all waveforms\n",
        "#     max_len = max(waveform.shape[-1] for waveform in waveforms)\n",
        "\n",
        "#     # Pad waveforms to the maximum length\n",
        "#     padded_waveforms = [torch.nn.functional.pad(waveform, (0, max_len - waveform.shape[-1])) for waveform in waveforms]\n",
        "\n",
        "#     # Stack padded waveforms and labels\n",
        "#     return torch.stack(padded_waveforms), torch.stack(labels)\n",
        "\n",
        "def augment_audio(waveform, sample_rate):\n",
        "    if random.random() < 0.3:\n",
        "        waveform = add_gaussian_noise(waveform)\n",
        "    if random.random() < 0.3:\n",
        "        waveform = time_masking(waveform)\n",
        "    # if random.random() < 0.3:\n",
        "    #     waveform = pitch_shift(waveform, sample_rate)\n",
        "    return waveform\n"
      ],
      "metadata": {
        "id": "t5jGE2AokXf4"
      },
      "execution_count": 103,
      "outputs": []
    },
    {
      "cell_type": "code",
      "source": [
        "MAX_LENGTH = 160000  # Adjust based on dataset (e.g., 10 sec at 16kHz = 160000 samples)\n"
      ],
      "metadata": {
        "id": "tSH-H6X4N_Pa"
      },
      "execution_count": 104,
      "outputs": []
    },
    {
      "cell_type": "code",
      "source": [
        "class AudioDataset(Dataset):\n",
        "    def __init__(self, real_path, fake_path, target_length=MAX_LENGTH):\n",
        "        self.real_files = [os.path.join(real_path, f) for f in os.listdir(real_path)]\n",
        "        self.fake_files = [os.path.join(fake_path, f) for f in os.listdir(fake_path)]\n",
        "        self.data = [(f, 1) for f in self.real_files] + [(f, 0) for f in self.fake_files]\n",
        "        self.target_length = target_length\n",
        "        random.shuffle(self.data)\n",
        "\n",
        "    def __len__(self):\n",
        "        return len(self.data)\n",
        "\n",
        "    def __getitem__(self, idx):\n",
        "        file_path, label = self.data[idx]\n",
        "        print(f\"Preprocessing file:{file_path}\")\n",
        "        try:\n",
        "            waveform, sample_rate = torchaudio.load(file_path)\n",
        "\n",
        "        # Convert stereo to mono if necessary\n",
        "            if waveform.shape[0] > 1:\n",
        "                waveform = waveform.mean(dim=0, keepdim=True)  # Convert stereo to mono\n",
        "\n",
        "            if waveform.shape[1] < self.target_length:\n",
        "                pad_size = self.target_length - waveform.shape[1]\n",
        "                waveform = torch.nn.functional.pad(waveform, (0, pad_size))\n",
        "            else:\n",
        "                waveform = waveform[:, :self.target_length]\n",
        "\n",
        "            waveform = augment_audio(waveform,sample_rate)\n",
        "            return waveform, torch.tensor(label, dtype=torch.long)\n",
        "\n",
        "        except Exception as e:\n",
        "            print(f\"Error loading file: {file_path}, Error: {e}\")\n",
        "            return None  # Skip problematic files"
      ],
      "metadata": {
        "id": "TSze4lnm4Rz5"
      },
      "execution_count": 156,
      "outputs": []
    },
    {
      "cell_type": "code",
      "source": [],
      "metadata": {
        "id": "uCNHSAZp8Juq"
      },
      "execution_count": 156,
      "outputs": []
    },
    {
      "cell_type": "code",
      "source": [
        "real_path=\"/content/dataset/audio_dataset/real\"\n",
        "fake_path=\"/content/dataset/audio_dataset/fake\"\n",
        "# dataset = AudioDataset(real_path, fake_path)\n",
        "# train_loader = DataLoader(dataset, batch_size=8, shuffle=True)"
      ],
      "metadata": {
        "id": "qceaEzEA43LJ"
      },
      "execution_count": 157,
      "outputs": []
    },
    {
      "cell_type": "code",
      "source": [
        "from torch.utils.data import random_split\n",
        "\n",
        "full_dataset = AudioDataset(real_path, fake_path)\n",
        "train_size = int(0.8 * len(full_dataset))\n",
        "val_size = len(full_dataset) - train_size\n",
        "train_dataset, val_dataset = random_split(full_dataset, [train_size, val_size])"
      ],
      "metadata": {
        "id": "HQLWO2lw46zA"
      },
      "execution_count": 158,
      "outputs": []
    },
    {
      "cell_type": "code",
      "source": [
        "def collate_fn(batch):\n",
        "    batch = [b for b in batch if b is not None]  # Remove None values\n",
        "    if len(batch) == 0:\n",
        "        return None  # Skip empty batch case\n",
        "\n",
        "    waveforms, labels = zip(*batch)\n",
        "    waveforms = torch.stack(waveforms)\n",
        "    labels = torch.tensor(labels)\n",
        "    return waveforms, labels\n"
      ],
      "metadata": {
        "id": "uvijSzNWR-Zu"
      },
      "execution_count": 159,
      "outputs": []
    },
    {
      "cell_type": "code",
      "source": [
        "train_loader = DataLoader(train_dataset, batch_size=4, shuffle=True, pin_memory=True)\n",
        "val_loader = DataLoader(val_dataset, batch_size=4, shuffle=False, pin_memory=True)"
      ],
      "metadata": {
        "id": "kzUscrSr5AkZ"
      },
      "execution_count": 160,
      "outputs": []
    },
    {
      "cell_type": "code",
      "source": [
        "!huggingface-cli whoami"
      ],
      "metadata": {
        "colab": {
          "base_uri": "https://localhost:8080/"
        },
        "id": "iJEmzeNw5uUV",
        "outputId": "dfd8a04f-415e-47d7-d51f-f7fe65256c15"
      },
      "execution_count": 161,
      "outputs": [
        {
          "output_type": "stream",
          "name": "stdout",
          "text": [
            "jas2002\n"
          ]
        }
      ]
    },
    {
      "cell_type": "code",
      "source": [
        "# def forward(self, input_values):\n",
        "#     hidden_states = self.conv_layers[0](input_values)\n",
        "\n",
        "#     # make sure hidden_states require grad for gradient_checkpointing\n",
        "#     # if self._requires_grad and self.training:  # Original problematic line\n",
        "#     #     hidden_states.requires_grad = True   # Original problematic line\n",
        "\n",
        "#     # Instead, if you need to enable gradient for hidden_states:\n",
        "#     if self.training and self._requires_grad:\n",
        "#         hidden_states = hidden_states.detach().requires_grad_(True)\n",
        "\n",
        "#     for conv_layer in self.conv_layers[1:]:\n",
        "#         hidden_states = conv_layer(hidden_states)\n",
        "#     return hidden_states"
      ],
      "metadata": {
        "id": "igcgAdiKTsPK"
      },
      "execution_count": 162,
      "outputs": []
    },
    {
      "cell_type": "code",
      "source": [
        "import torch\n",
        "from transformers import HubertForSequenceClassification\n",
        "\n",
        "model = HubertForSequenceClassification.from_pretrained(\n",
        "    \"facebook/hubert-base-ls960\", num_labels=2)\n",
        "for param in model.hubert.encoder.layers[-8:].parameters():  # Fine-tune last 8 layers\n",
        "    param.requires_grad = False\n",
        "model = model.to(\"cuda\" if torch.cuda.is_available() else \"cpu\")\n",
        "\n",
        "# Apply this after loading the model and before training:\n",
        "for name, param in model.hubert.feature_extractor.named_parameters():\n",
        "    if \"conv\" in name:  # Target convolutional layers in feature extractor\n",
        "        param.requires_grad = True"
      ],
      "metadata": {
        "colab": {
          "base_uri": "https://localhost:8080/"
        },
        "id": "R570i0n95Q6G",
        "outputId": "15bc564f-c544-465a-c621-ccf98ca0c118"
      },
      "execution_count": 163,
      "outputs": [
        {
          "output_type": "stream",
          "name": "stderr",
          "text": [
            "Some weights of HubertForSequenceClassification were not initialized from the model checkpoint at facebook/hubert-base-ls960 and are newly initialized: ['classifier.bias', 'classifier.weight', 'projector.bias', 'projector.weight']\n",
            "You should probably TRAIN this model on a down-stream task to be able to use it for predictions and inference.\n"
          ]
        }
      ]
    },
    {
      "cell_type": "code",
      "source": [
        "optimizer = optim.AdamW(model.parameters(), lr=1e-5)\n",
        "scaler = GradScaler(enabled=torch.cuda.is_available())\n",
        "scheduler = torch.optim.lr_scheduler.CosineAnnealingLR(optimizer, T_max=5)\n"
      ],
      "metadata": {
        "colab": {
          "base_uri": "https://localhost:8080/"
        },
        "id": "qnxDaDWL5mUG",
        "outputId": "3fea5437-8aad-48c9-a6d1-d089f036cd9c"
      },
      "execution_count": 164,
      "outputs": [
        {
          "output_type": "stream",
          "name": "stderr",
          "text": [
            "<ipython-input-164-6cf6f141f5bf>:2: FutureWarning: `torch.cuda.amp.GradScaler(args...)` is deprecated. Please use `torch.amp.GradScaler('cuda', args...)` instead.\n",
            "  scaler = GradScaler(enabled=torch.cuda.is_available())\n"
          ]
        }
      ]
    },
    {
      "cell_type": "code",
      "source": [
        "def train(model, train_loader, val_loader, epochs=10, patience=3):\n",
        "    model.train()\n",
        "    best_val_loss = float('inf')\n",
        "    patience_counter = 0\n",
        "    for epoch in range(epochs):\n",
        "        total_loss = 0\n",
        "        for batch in train_loader:\n",
        "            waveforms, labels = batch\n",
        "            if waveforms is None:\n",
        "                continue  # Skip this batch if it's None\n",
        "            waveforms, labels = waveforms.to(\"cuda\" if torch.cuda.is_available() else \"cpu\"), labels.to(\"cuda\" if torch.cuda.is_available() else \"cpu\")\n",
        "            optimizer.zero_grad()\n",
        "            with torch.amp.autocast(\"cuda\"):\n",
        "                outputs = model(waveforms.squeeze(1)).logits  # Ensure correct input shape\n",
        "                loss = nn.CrossEntropyLoss()(outputs, labels)\n",
        "            scaler.scale(loss).backward()\n",
        "            scaler.step(optimizer)\n",
        "            scaler.update()\n",
        "            total_loss += loss.item()\n",
        "        scheduler.step()\n",
        "        print(f\"Epoch {epoch+1}/{epochs}, Loss: {total_loss:.4f}\")\n",
        "        with open(\"training_results.txt\", \"a\") as f:\n",
        "            f.write(f\"Epoch {epoch+1}/{epochs}, Loss: {total_loss:.4f}\\n\")\n",
        "\n",
        "\n",
        "        val_loss = evaluate(model, val_loader, validation=True)\n",
        "        if val_loss < best_val_loss:\n",
        "            best_val_loss = val_loss\n",
        "            patience_counter = 0\n",
        "            torch.save(model.state_dict(), \"best_model.pth\")  # Save best model\n",
        "        else:\n",
        "            patience_counter += 1\n",
        "\n",
        "        if patience_counter >= patience:\n",
        "            print(\"Early stopping triggered.\")\n",
        "            break\n",
        "\n",
        "        # Free up memory\n",
        "        torch.cuda.empty_cache()\n",
        "        gc.collect()\n"
      ],
      "metadata": {
        "id": "-IHoD4KN6Bpc"
      },
      "execution_count": 165,
      "outputs": []
    },
    {
      "cell_type": "code",
      "source": [
        "def evaluate(model, test_loader, validation=False):\n",
        "    model.eval()\n",
        "    all_preds, all_labels = [], []\n",
        "    total_loss = 0\n",
        "    with torch.no_grad():\n",
        "        for waveforms, labels in test_loader:\n",
        "            waveforms, labels = waveforms.to(\"cuda\" if torch.cuda.is_available() else \"cpu\"), labels.to(\"cuda\" if torch.cuda.is_available() else \"cpu\")\n",
        "            outputs = model(waveforms.squeeze(1)).logits  # Ensure correct input shape\n",
        "            loss = nn.CrossEntropyLoss()(outputs, labels)\n",
        "            total_loss += loss.item()\n",
        "            preds = torch.argmax(outputs, dim=1)\n",
        "            all_preds.extend(preds.cpu().numpy())\n",
        "            all_labels.extend(labels.cpu().numpy())\n",
        "\n",
        "    acc = accuracy_score(all_labels, all_preds)\n",
        "    precision = precision_score(all_labels, all_preds)\n",
        "    recall = recall_score(all_labels, all_preds)\n",
        "    f1 = f1_score(all_labels, all_preds)\n",
        "\n",
        "    if validation:\n",
        "        return total_loss\n",
        "\n",
        "    print(f\"Test Accuracy: {acc * 100:.2f}%\")\n",
        "    print(f\"Precision: {precision:.4f}, Recall: {recall:.4f}, F1 Score: {f1:.4f}\")\n",
        "    with open(\"evaluation_results.txt\", \"w\") as f:\n",
        "        f.write(f\"Test Accuracy: {acc * 100:.2f}%\\n\")\n",
        "        f.write(f\"Precision: {precision:.4f}, Recall: {recall:.4f}, F1 Score: {f1:.4f}\\n\")\n",
        "\n",
        "    return acc\n"
      ],
      "metadata": {
        "id": "gq8MzJ6Z9x8l"
      },
      "execution_count": 166,
      "outputs": []
    },
    {
      "cell_type": "code",
      "source": [
        "train(model, train_loader, val_loader, epochs=10)\n",
        "evaluate(model, val_loader)"
      ],
      "metadata": {
        "colab": {
          "base_uri": "https://localhost:8080/"
        },
        "id": "bdpYJ_BoIj6R",
        "outputId": "b14755c9-248b-4624-f4ee-f3037f3aee7f"
      },
      "execution_count": null,
      "outputs": [
        {
          "output_type": "stream",
          "name": "stdout",
          "text": [
            "Preprocessing file:/content/dataset/audio_dataset/real/file19509.wav\n",
            "Preprocessing file:/content/dataset/audio_dataset/fake/12026.wav\n",
            "Preprocessing file:/content/dataset/audio_dataset/fake/25395.wav\n",
            "Preprocessing file:/content/dataset/audio_dataset/real/file21805.wav\n",
            "Preprocessing file:/content/dataset/audio_dataset/real/12146.wav\n",
            "Preprocessing file:/content/dataset/audio_dataset/real/31095.wav\n",
            "Preprocessing file:/content/dataset/audio_dataset/real/file11260.wav\n",
            "Preprocessing file:/content/dataset/audio_dataset/fake/397.wav\n",
            "Preprocessing file:/content/dataset/audio_dataset/fake/file26982.mp3\n",
            "Preprocessing file:/content/dataset/audio_dataset/real/file9952.wav\n",
            "Preprocessing file:/content/dataset/audio_dataset/fake/file16633.mp3\n",
            "Preprocessing file:/content/dataset/audio_dataset/real/file23229.wav\n",
            "Preprocessing file:/content/dataset/audio_dataset/real/file16477.wav\n",
            "Preprocessing file:/content/dataset/audio_dataset/real/file3496.wav\n",
            "Preprocessing file:/content/dataset/audio_dataset/fake/file11578.mp3\n",
            "Preprocessing file:/content/dataset/audio_dataset/fake/file27146.wav\n",
            "Preprocessing file:/content/dataset/audio_dataset/fake/23541.wav\n",
            "Preprocessing file:/content/dataset/audio_dataset/real/19892.wav\n",
            "Preprocessing file:/content/dataset/audio_dataset/real/file33524.wav\n",
            "Preprocessing file:/content/dataset/audio_dataset/real/20359.wav\n",
            "Preprocessing file:/content/dataset/audio_dataset/fake/file415.mp3\n",
            "Preprocessing file:/content/dataset/audio_dataset/fake/file31333.mp3\n",
            "Preprocessing file:/content/dataset/audio_dataset/fake/file2334.mp3\n",
            "Preprocessing file:/content/dataset/audio_dataset/fake/file14025.wav\n",
            "Preprocessing file:/content/dataset/audio_dataset/real/file19969.wav\n",
            "Preprocessing file:/content/dataset/audio_dataset/fake/file8437.wav\n",
            "Preprocessing file:/content/dataset/audio_dataset/fake/file25329.mp3\n",
            "Preprocessing file:/content/dataset/audio_dataset/real/file27416.wav\n",
            "Preprocessing file:/content/dataset/audio_dataset/fake/file22713.mp3\n",
            "Preprocessing file:/content/dataset/audio_dataset/fake/file17648.mp3\n",
            "Preprocessing file:/content/dataset/audio_dataset/fake/file27585.mp3\n",
            "Preprocessing file:/content/dataset/audio_dataset/real/file16995.wav\n",
            "Preprocessing file:/content/dataset/audio_dataset/real/23810.wav\n",
            "Preprocessing file:/content/dataset/audio_dataset/real/file13987.wav\n",
            "Preprocessing file:/content/dataset/audio_dataset/real/15469.wav\n",
            "Preprocessing file:/content/dataset/audio_dataset/real/file16812.wav\n",
            "Preprocessing file:/content/dataset/audio_dataset/fake/file32257.mp3\n",
            "Preprocessing file:/content/dataset/audio_dataset/fake/file7721.mp3\n",
            "Preprocessing file:/content/dataset/audio_dataset/fake/14021.wav\n",
            "Preprocessing file:/content/dataset/audio_dataset/real/file30614.wav\n",
            "Preprocessing file:/content/dataset/audio_dataset/fake/file340.wav\n",
            "Preprocessing file:/content/dataset/audio_dataset/fake/file32359.mp3\n",
            "Preprocessing file:/content/dataset/audio_dataset/real/file9381.wav\n",
            "Preprocessing file:/content/dataset/audio_dataset/real/file12385.wav\n",
            "Preprocessing file:/content/dataset/audio_dataset/real/925.wav\n",
            "Preprocessing file:/content/dataset/audio_dataset/fake/file7552.mp3\n",
            "Preprocessing file:/content/dataset/audio_dataset/real/15190.wav\n",
            "Preprocessing file:/content/dataset/audio_dataset/fake/file7780.mp3\n",
            "Preprocessing file:/content/dataset/audio_dataset/fake/file6119.mp3\n",
            "Preprocessing file:/content/dataset/audio_dataset/real/19253.wav\n",
            "Preprocessing file:/content/dataset/audio_dataset/fake/file1722.mp3\n",
            "Preprocessing file:/content/dataset/audio_dataset/fake/file19677.mp3\n",
            "Preprocessing file:/content/dataset/audio_dataset/fake/file24151.mp3\n",
            "Preprocessing file:/content/dataset/audio_dataset/real/file7068.wav\n",
            "Preprocessing file:/content/dataset/audio_dataset/fake/file5401.mp3\n",
            "Preprocessing file:/content/dataset/audio_dataset/real/28522.wav\n",
            "Preprocessing file:/content/dataset/audio_dataset/fake/file24255.mp3\n",
            "Preprocessing file:/content/dataset/audio_dataset/real/9247.wav\n",
            "Preprocessing file:/content/dataset/audio_dataset/real/file10106.wav\n",
            "Preprocessing file:/content/dataset/audio_dataset/real/30310.wav\n",
            "Preprocessing file:/content/dataset/audio_dataset/fake/file1799.mp3\n",
            "Preprocessing file:/content/dataset/audio_dataset/fake/file1150.wav\n",
            "Preprocessing file:/content/dataset/audio_dataset/fake/15544.wav\n",
            "Preprocessing file:/content/dataset/audio_dataset/real/26962.wav\n",
            "Preprocessing file:/content/dataset/audio_dataset/fake/file30803.mp3\n",
            "Preprocessing file:/content/dataset/audio_dataset/real/27276.wav\n",
            "Preprocessing file:/content/dataset/audio_dataset/fake/file15292.mp3\n",
            "Preprocessing file:/content/dataset/audio_dataset/fake/21718.wav\n",
            "Preprocessing file:/content/dataset/audio_dataset/fake/file16421.mp3\n",
            "Preprocessing file:/content/dataset/audio_dataset/fake/24484.wav\n",
            "Preprocessing file:/content/dataset/audio_dataset/real/25877.wav\n",
            "Preprocessing file:/content/dataset/audio_dataset/real/file12793.wav\n",
            "Preprocessing file:/content/dataset/audio_dataset/real/file12217.wav\n",
            "Preprocessing file:/content/dataset/audio_dataset/fake/9797.wav\n",
            "Preprocessing file:/content/dataset/audio_dataset/real/file16899.wav\n",
            "Preprocessing file:/content/dataset/audio_dataset/fake/2668.wav\n",
            "Preprocessing file:/content/dataset/audio_dataset/fake/file1400.wav\n",
            "Preprocessing file:/content/dataset/audio_dataset/real/5502.wav\n",
            "Preprocessing file:/content/dataset/audio_dataset/real/22430.wav\n",
            "Preprocessing file:/content/dataset/audio_dataset/fake/file28113.mp3\n",
            "Preprocessing file:/content/dataset/audio_dataset/fake/file12116.mp3\n",
            "Preprocessing file:/content/dataset/audio_dataset/real/file11703.wav\n",
            "Preprocessing file:/content/dataset/audio_dataset/real/file21443.wav\n",
            "Preprocessing file:/content/dataset/audio_dataset/real/file29777.wav\n",
            "Preprocessing file:/content/dataset/audio_dataset/real/13386.wav\n",
            "Preprocessing file:/content/dataset/audio_dataset/fake/file14986.mp3\n",
            "Preprocessing file:/content/dataset/audio_dataset/fake/file21230.mp3\n",
            "Preprocessing file:/content/dataset/audio_dataset/fake/file13239.mp3\n",
            "Preprocessing file:/content/dataset/audio_dataset/fake/26199.wav\n",
            "Preprocessing file:/content/dataset/audio_dataset/fake/29321.wav\n",
            "Preprocessing file:/content/dataset/audio_dataset/real/file34465.wav\n",
            "Preprocessing file:/content/dataset/audio_dataset/real/file16165.wav\n",
            "Preprocessing file:/content/dataset/audio_dataset/fake/25557.wav\n",
            "Preprocessing file:/content/dataset/audio_dataset/fake/file8470.mp3\n",
            "Preprocessing file:/content/dataset/audio_dataset/real/file2965.wav\n",
            "Preprocessing file:/content/dataset/audio_dataset/fake/28049.wav\n",
            "Preprocessing file:/content/dataset/audio_dataset/fake/634.wav\n",
            "Preprocessing file:/content/dataset/audio_dataset/real/file11334.wav\n",
            "Preprocessing file:/content/dataset/audio_dataset/real/6668.wav\n",
            "Preprocessing file:/content/dataset/audio_dataset/real/5777.wav\n",
            "Preprocessing file:/content/dataset/audio_dataset/fake/file20897.wav\n",
            "Preprocessing file:/content/dataset/audio_dataset/fake/17411.wav\n",
            "Preprocessing file:/content/dataset/audio_dataset/fake/file14797.mp3\n",
            "Preprocessing file:/content/dataset/audio_dataset/real/500.wav\n",
            "Preprocessing file:/content/dataset/audio_dataset/real/file557.wav\n",
            "Preprocessing file:/content/dataset/audio_dataset/real/file32890.wav\n",
            "Preprocessing file:/content/dataset/audio_dataset/real/30187.wav\n",
            "Preprocessing file:/content/dataset/audio_dataset/fake/19194.wav\n",
            "Preprocessing file:/content/dataset/audio_dataset/fake/file11236.mp3\n",
            "Preprocessing file:/content/dataset/audio_dataset/real/file28743.wav\n",
            "Preprocessing file:/content/dataset/audio_dataset/fake/file16122.mp3\n",
            "Preprocessing file:/content/dataset/audio_dataset/fake/1891.wav\n",
            "Preprocessing file:/content/dataset/audio_dataset/real/file33564.wav\n",
            "Preprocessing file:/content/dataset/audio_dataset/real/22690.wav\n",
            "Preprocessing file:/content/dataset/audio_dataset/real/11294.wav\n",
            "Preprocessing file:/content/dataset/audio_dataset/fake/14136.wav\n",
            "Preprocessing file:/content/dataset/audio_dataset/real/file6032.wav\n",
            "Preprocessing file:/content/dataset/audio_dataset/real/5754.wav\n",
            "Preprocessing file:/content/dataset/audio_dataset/fake/file31761.mp3\n",
            "Preprocessing file:/content/dataset/audio_dataset/fake/11607.wav\n",
            "Preprocessing file:/content/dataset/audio_dataset/real/11336.wav\n",
            "Preprocessing file:/content/dataset/audio_dataset/real/file14829.wav\n",
            "Preprocessing file:/content/dataset/audio_dataset/fake/file8910.wav\n",
            "Preprocessing file:/content/dataset/audio_dataset/real/file5598.wav\n",
            "Preprocessing file:/content/dataset/audio_dataset/real/17067.wav\n",
            "Preprocessing file:/content/dataset/audio_dataset/fake/file11914.mp3\n",
            "Preprocessing file:/content/dataset/audio_dataset/real/18703.wav\n",
            "Preprocessing file:/content/dataset/audio_dataset/real/file25818.wav\n",
            "Preprocessing file:/content/dataset/audio_dataset/fake/28990.wav\n",
            "Preprocessing file:/content/dataset/audio_dataset/fake/28267.wav\n",
            "Preprocessing file:/content/dataset/audio_dataset/fake/file20082.wav\n",
            "Preprocessing file:/content/dataset/audio_dataset/fake/file4975.wav\n",
            "Preprocessing file:/content/dataset/audio_dataset/real/file20780.wav\n",
            "Preprocessing file:/content/dataset/audio_dataset/real/15679.wav\n",
            "Preprocessing file:/content/dataset/audio_dataset/real/file28.wav\n",
            "Preprocessing file:/content/dataset/audio_dataset/fake/file29043.mp3\n",
            "Preprocessing file:/content/dataset/audio_dataset/fake/file8663.mp3\n",
            "Preprocessing file:/content/dataset/audio_dataset/real/25452.wav\n",
            "Preprocessing file:/content/dataset/audio_dataset/fake/file5523.mp3\n",
            "Preprocessing file:/content/dataset/audio_dataset/real/24353.wav\n",
            "Preprocessing file:/content/dataset/audio_dataset/real/file7684.wav\n",
            "Preprocessing file:/content/dataset/audio_dataset/fake/file31410.mp3\n",
            "Preprocessing file:/content/dataset/audio_dataset/fake/file15290.mp3\n",
            "Preprocessing file:/content/dataset/audio_dataset/real/file25805.wav\n",
            "Preprocessing file:/content/dataset/audio_dataset/fake/23023.wav\n",
            "Preprocessing file:/content/dataset/audio_dataset/real/file25207.wav\n",
            "Preprocessing file:/content/dataset/audio_dataset/fake/file22877.mp3\n",
            "Preprocessing file:/content/dataset/audio_dataset/real/file18237.wav\n",
            "Preprocessing file:/content/dataset/audio_dataset/fake/file1866.mp3\n",
            "Preprocessing file:/content/dataset/audio_dataset/real/file23223.wav\n",
            "Preprocessing file:/content/dataset/audio_dataset/fake/file18238.mp3\n",
            "Preprocessing file:/content/dataset/audio_dataset/fake/file19319.mp3\n",
            "Preprocessing file:/content/dataset/audio_dataset/fake/27582.wav\n",
            "Preprocessing file:/content/dataset/audio_dataset/fake/file16170.mp3\n",
            "Preprocessing file:/content/dataset/audio_dataset/real/file17019.wav\n",
            "Preprocessing file:/content/dataset/audio_dataset/fake/file18512.mp3\n",
            "Preprocessing file:/content/dataset/audio_dataset/fake/file19471.wav\n",
            "Preprocessing file:/content/dataset/audio_dataset/real/file31088.wav\n",
            "Preprocessing file:/content/dataset/audio_dataset/fake/6101.wav\n",
            "Preprocessing file:/content/dataset/audio_dataset/real/file12334.wav\n",
            "Preprocessing file:/content/dataset/audio_dataset/real/3453.wav\n",
            "Preprocessing file:/content/dataset/audio_dataset/fake/file17686.mp3\n",
            "Preprocessing file:/content/dataset/audio_dataset/real/25128.wav\n",
            "Preprocessing file:/content/dataset/audio_dataset/real/14780.wav\n",
            "Preprocessing file:/content/dataset/audio_dataset/fake/file17221.mp3\n",
            "Preprocessing file:/content/dataset/audio_dataset/real/file26518.wav\n",
            "Preprocessing file:/content/dataset/audio_dataset/fake/file4497.mp3\n",
            "Preprocessing file:/content/dataset/audio_dataset/real/file15131.wav\n",
            "Preprocessing file:/content/dataset/audio_dataset/real/file33616.wav\n",
            "Preprocessing file:/content/dataset/audio_dataset/real/22561.wav\n",
            "Preprocessing file:/content/dataset/audio_dataset/real/file7018.wav\n",
            "Preprocessing file:/content/dataset/audio_dataset/real/file17810.wav\n",
            "Preprocessing file:/content/dataset/audio_dataset/real/21991.wav\n",
            "Preprocessing file:/content/dataset/audio_dataset/real/file18229.wav\n",
            "Preprocessing file:/content/dataset/audio_dataset/fake/file13397.mp3\n",
            "Preprocessing file:/content/dataset/audio_dataset/real/8511.wav\n",
            "Preprocessing file:/content/dataset/audio_dataset/real/file12919.wav\n",
            "Preprocessing file:/content/dataset/audio_dataset/real/30648.wav\n",
            "Preprocessing file:/content/dataset/audio_dataset/real/file8937.wav\n",
            "Preprocessing file:/content/dataset/audio_dataset/fake/4107.wav\n",
            "Preprocessing file:/content/dataset/audio_dataset/real/file34012.wav\n",
            "Preprocessing file:/content/dataset/audio_dataset/real/22457.wav\n",
            "Preprocessing file:/content/dataset/audio_dataset/fake/file802.wav\n",
            "Preprocessing file:/content/dataset/audio_dataset/real/file14274.wav\n",
            "Preprocessing file:/content/dataset/audio_dataset/real/19050.wav\n",
            "Preprocessing file:/content/dataset/audio_dataset/fake/19861.wav\n",
            "Preprocessing file:/content/dataset/audio_dataset/fake/28627.wav\n",
            "Preprocessing file:/content/dataset/audio_dataset/fake/file917.wav\n",
            "Preprocessing file:/content/dataset/audio_dataset/fake/29105.wav\n",
            "Preprocessing file:/content/dataset/audio_dataset/real/11680.wav\n",
            "Preprocessing file:/content/dataset/audio_dataset/fake/file13865.wav\n",
            "Preprocessing file:/content/dataset/audio_dataset/real/389.wav\n",
            "Preprocessing file:/content/dataset/audio_dataset/real/file21313.wav\n",
            "Preprocessing file:/content/dataset/audio_dataset/fake/file23491.mp3\n",
            "Preprocessing file:/content/dataset/audio_dataset/real/file29490.wav\n",
            "Preprocessing file:/content/dataset/audio_dataset/real/30379.wav\n",
            "Preprocessing file:/content/dataset/audio_dataset/real/file6975.wav\n",
            "Preprocessing file:/content/dataset/audio_dataset/real/14269.wav\n",
            "Preprocessing file:/content/dataset/audio_dataset/fake/file19994.mp3\n",
            "Preprocessing file:/content/dataset/audio_dataset/fake/22405.wav\n",
            "Preprocessing file:/content/dataset/audio_dataset/real/13316.wav\n",
            "Preprocessing file:/content/dataset/audio_dataset/fake/25429.wav\n",
            "Preprocessing file:/content/dataset/audio_dataset/real/30148.wav\n",
            "Preprocessing file:/content/dataset/audio_dataset/fake/file604.wav\n",
            "Preprocessing file:/content/dataset/audio_dataset/fake/file8586.mp3\n",
            "Preprocessing file:/content/dataset/audio_dataset/fake/file24965.mp3\n",
            "Preprocessing file:/content/dataset/audio_dataset/real/30005.wav\n",
            "Preprocessing file:/content/dataset/audio_dataset/real/18347.wav\n",
            "Preprocessing file:/content/dataset/audio_dataset/real/3772.wav\n",
            "Preprocessing file:/content/dataset/audio_dataset/real/21564.wav\n",
            "Preprocessing file:/content/dataset/audio_dataset/real/25634.wav\n",
            "Preprocessing file:/content/dataset/audio_dataset/fake/21491.wav\n",
            "Preprocessing file:/content/dataset/audio_dataset/fake/file5580.mp3\n",
            "Preprocessing file:/content/dataset/audio_dataset/fake/file5795.wav\n",
            "Preprocessing file:/content/dataset/audio_dataset/real/file26660.wav\n",
            "Preprocessing file:/content/dataset/audio_dataset/real/8542.wav\n",
            "Preprocessing file:/content/dataset/audio_dataset/real/file31965.wav\n",
            "Preprocessing file:/content/dataset/audio_dataset/real/2839.wav\n",
            "Preprocessing file:/content/dataset/audio_dataset/real/file5383.wav\n",
            "Preprocessing file:/content/dataset/audio_dataset/fake/file25993.mp3\n",
            "Preprocessing file:/content/dataset/audio_dataset/real/1362.wav\n",
            "Preprocessing file:/content/dataset/audio_dataset/real/file13523.wav\n",
            "Preprocessing file:/content/dataset/audio_dataset/real/file23438.wav\n",
            "Preprocessing file:/content/dataset/audio_dataset/real/file33149.wav\n",
            "Preprocessing file:/content/dataset/audio_dataset/fake/file4787.mp3\n",
            "Preprocessing file:/content/dataset/audio_dataset/fake/file1428.mp3\n",
            "Preprocessing file:/content/dataset/audio_dataset/real/file1420.wav\n",
            "Preprocessing file:/content/dataset/audio_dataset/fake/file17577.mp3\n",
            "Preprocessing file:/content/dataset/audio_dataset/real/file33325.wav\n",
            "Preprocessing file:/content/dataset/audio_dataset/fake/file26853.mp3\n",
            "Preprocessing file:/content/dataset/audio_dataset/fake/file12958.mp3\n",
            "Preprocessing file:/content/dataset/audio_dataset/fake/file25848.mp3\n",
            "Preprocessing file:/content/dataset/audio_dataset/fake/file1328.wav\n",
            "Preprocessing file:/content/dataset/audio_dataset/fake/18253.wav\n",
            "Preprocessing file:/content/dataset/audio_dataset/real/14043.wav\n",
            "Preprocessing file:/content/dataset/audio_dataset/fake/file9804.mp3\n",
            "Preprocessing file:/content/dataset/audio_dataset/real/10941.wav\n",
            "Preprocessing file:/content/dataset/audio_dataset/real/file15407.wav\n",
            "Preprocessing file:/content/dataset/audio_dataset/fake/770.wav\n",
            "Preprocessing file:/content/dataset/audio_dataset/fake/150.wav\n",
            "Preprocessing file:/content/dataset/audio_dataset/real/file12310.wav\n",
            "Preprocessing file:/content/dataset/audio_dataset/real/file21480.wav\n",
            "Preprocessing file:/content/dataset/audio_dataset/fake/file29134.mp3\n",
            "Preprocessing file:/content/dataset/audio_dataset/real/file34153.wav\n",
            "Preprocessing file:/content/dataset/audio_dataset/fake/file1968.mp3\n",
            "Preprocessing file:/content/dataset/audio_dataset/fake/file9270.wav\n",
            "Preprocessing file:/content/dataset/audio_dataset/fake/file20777.mp3\n",
            "Preprocessing file:/content/dataset/audio_dataset/real/736.wav\n",
            "Preprocessing file:/content/dataset/audio_dataset/real/20521.wav\n",
            "Preprocessing file:/content/dataset/audio_dataset/real/file34502.wav\n",
            "Preprocessing file:/content/dataset/audio_dataset/real/23714.wav\n",
            "Preprocessing file:/content/dataset/audio_dataset/fake/file30816.mp3\n",
            "Preprocessing file:/content/dataset/audio_dataset/real/file33103.wav\n",
            "Preprocessing file:/content/dataset/audio_dataset/fake/file17104.mp3\n",
            "Preprocessing file:/content/dataset/audio_dataset/real/file2146.wav\n",
            "Preprocessing file:/content/dataset/audio_dataset/fake/file2899.wav\n",
            "Preprocessing file:/content/dataset/audio_dataset/real/file25315.wav\n",
            "Preprocessing file:/content/dataset/audio_dataset/real/11985.wav\n",
            "Preprocessing file:/content/dataset/audio_dataset/fake/file11626.mp3\n",
            "Preprocessing file:/content/dataset/audio_dataset/fake/file20181.mp3\n",
            "Preprocessing file:/content/dataset/audio_dataset/fake/file25696.mp3\n",
            "Preprocessing file:/content/dataset/audio_dataset/fake/4690.wav\n",
            "Preprocessing file:/content/dataset/audio_dataset/fake/file9244.mp3\n",
            "Preprocessing file:/content/dataset/audio_dataset/fake/3086.wav\n",
            "Preprocessing file:/content/dataset/audio_dataset/real/13662.wav\n",
            "Preprocessing file:/content/dataset/audio_dataset/fake/file23511.wav\n",
            "Preprocessing file:/content/dataset/audio_dataset/fake/file13075.mp3\n",
            "Preprocessing file:/content/dataset/audio_dataset/fake/file15331.mp3\n",
            "Preprocessing file:/content/dataset/audio_dataset/real/file21710.wav\n",
            "Preprocessing file:/content/dataset/audio_dataset/fake/file10644.mp3\n",
            "Preprocessing file:/content/dataset/audio_dataset/fake/file21077.mp3\n",
            "Preprocessing file:/content/dataset/audio_dataset/real/15008.wav\n",
            "Preprocessing file:/content/dataset/audio_dataset/fake/file5169.mp3\n",
            "Preprocessing file:/content/dataset/audio_dataset/real/file28602.wav\n",
            "Preprocessing file:/content/dataset/audio_dataset/fake/file14168.mp3\n",
            "Preprocessing file:/content/dataset/audio_dataset/fake/8949.wav\n",
            "Preprocessing file:/content/dataset/audio_dataset/real/file30726.wav\n",
            "Preprocessing file:/content/dataset/audio_dataset/fake/26665.wav\n",
            "Preprocessing file:/content/dataset/audio_dataset/real/file11470.wav\n",
            "Preprocessing file:/content/dataset/audio_dataset/real/24948.wav\n",
            "Preprocessing file:/content/dataset/audio_dataset/real/file25575.wav\n",
            "Preprocessing file:/content/dataset/audio_dataset/fake/3052.wav\n",
            "Preprocessing file:/content/dataset/audio_dataset/fake/5644.wav\n",
            "Preprocessing file:/content/dataset/audio_dataset/real/file19368.wav\n",
            "Preprocessing file:/content/dataset/audio_dataset/real/file31737.wav\n",
            "Preprocessing file:/content/dataset/audio_dataset/real/file18746.wav\n",
            "Preprocessing file:/content/dataset/audio_dataset/fake/file27563.mp3\n",
            "Preprocessing file:/content/dataset/audio_dataset/fake/file13525.mp3\n",
            "Preprocessing file:/content/dataset/audio_dataset/real/file21755.wav\n",
            "Preprocessing file:/content/dataset/audio_dataset/fake/file12701.mp3\n",
            "Preprocessing file:/content/dataset/audio_dataset/fake/file22995.mp3\n",
            "Preprocessing file:/content/dataset/audio_dataset/fake/23009.wav\n",
            "Preprocessing file:/content/dataset/audio_dataset/fake/file1003.wav\n",
            "Preprocessing file:/content/dataset/audio_dataset/fake/file24689.mp3\n",
            "Preprocessing file:/content/dataset/audio_dataset/real/file33898.wav\n",
            "Preprocessing file:/content/dataset/audio_dataset/real/file6951.wav\n",
            "Preprocessing file:/content/dataset/audio_dataset/fake/file29133.mp3\n",
            "Preprocessing file:/content/dataset/audio_dataset/real/4180.wav\n",
            "Preprocessing file:/content/dataset/audio_dataset/real/14399.wav\n",
            "Preprocessing file:/content/dataset/audio_dataset/fake/3502.wav\n",
            "Preprocessing file:/content/dataset/audio_dataset/real/file19326.wav\n",
            "Preprocessing file:/content/dataset/audio_dataset/fake/file5424.wav\n",
            "Preprocessing file:/content/dataset/audio_dataset/fake/file16335.mp3\n",
            "Preprocessing file:/content/dataset/audio_dataset/fake/file31133.mp3\n",
            "Preprocessing file:/content/dataset/audio_dataset/real/19463.wav\n",
            "Preprocessing file:/content/dataset/audio_dataset/fake/file29507.mp3\n",
            "Preprocessing file:/content/dataset/audio_dataset/real/file22747.wav\n",
            "Preprocessing file:/content/dataset/audio_dataset/real/6662.wav\n",
            "Preprocessing file:/content/dataset/audio_dataset/fake/file31663.mp3\n",
            "Preprocessing file:/content/dataset/audio_dataset/fake/file4120.mp3\n",
            "Preprocessing file:/content/dataset/audio_dataset/real/file20434.wav\n",
            "Preprocessing file:/content/dataset/audio_dataset/real/file17545.wav\n",
            "Preprocessing file:/content/dataset/audio_dataset/fake/3336.wav\n",
            "Preprocessing file:/content/dataset/audio_dataset/real/file5196.wav\n",
            "Preprocessing file:/content/dataset/audio_dataset/real/7774.wav\n",
            "Preprocessing file:/content/dataset/audio_dataset/real/file13653.wav\n",
            "Preprocessing file:/content/dataset/audio_dataset/real/20682.wav\n",
            "Preprocessing file:/content/dataset/audio_dataset/real/file13900.wav\n",
            "Preprocessing file:/content/dataset/audio_dataset/fake/file10374.mp3\n",
            "Preprocessing file:/content/dataset/audio_dataset/fake/29485.wav\n",
            "Preprocessing file:/content/dataset/audio_dataset/real/file12858.wav\n",
            "Preprocessing file:/content/dataset/audio_dataset/fake/file28552.mp3\n",
            "Preprocessing file:/content/dataset/audio_dataset/fake/file25534.mp3\n",
            "Preprocessing file:/content/dataset/audio_dataset/real/file24287.wav\n",
            "Preprocessing file:/content/dataset/audio_dataset/real/9353.wav\n",
            "Preprocessing file:/content/dataset/audio_dataset/fake/file26368.mp3\n",
            "Preprocessing file:/content/dataset/audio_dataset/fake/15007.wav\n",
            "Preprocessing file:/content/dataset/audio_dataset/fake/file23755.mp3\n",
            "Preprocessing file:/content/dataset/audio_dataset/fake/file1598.mp3\n",
            "Preprocessing file:/content/dataset/audio_dataset/fake/file1521.mp3\n",
            "Preprocessing file:/content/dataset/audio_dataset/real/26817.wav\n",
            "Preprocessing file:/content/dataset/audio_dataset/real/file23849.wav\n",
            "Preprocessing file:/content/dataset/audio_dataset/real/26829.wav\n",
            "Preprocessing file:/content/dataset/audio_dataset/real/13299.wav\n",
            "Preprocessing file:/content/dataset/audio_dataset/fake/file20001.mp3\n",
            "Preprocessing file:/content/dataset/audio_dataset/fake/file9537.mp3\n",
            "Preprocessing file:/content/dataset/audio_dataset/fake/10833.wav\n",
            "Preprocessing file:/content/dataset/audio_dataset/real/18884.wav\n",
            "Preprocessing file:/content/dataset/audio_dataset/real/8706.wav\n",
            "Preprocessing file:/content/dataset/audio_dataset/fake/file343.wav\n",
            "Preprocessing file:/content/dataset/audio_dataset/real/file25866.wav\n",
            "Preprocessing file:/content/dataset/audio_dataset/fake/file2252.wav\n",
            "Preprocessing file:/content/dataset/audio_dataset/fake/file1324.mp3\n",
            "Preprocessing file:/content/dataset/audio_dataset/fake/4782.wav\n",
            "Preprocessing file:/content/dataset/audio_dataset/fake/file19978.mp3\n",
            "Preprocessing file:/content/dataset/audio_dataset/real/file7308.wav\n",
            "Preprocessing file:/content/dataset/audio_dataset/real/18115.wav\n",
            "Preprocessing file:/content/dataset/audio_dataset/fake/file18143.mp3\n",
            "Preprocessing file:/content/dataset/audio_dataset/fake/file31884.mp3\n",
            "Preprocessing file:/content/dataset/audio_dataset/fake/23371.wav\n",
            "Preprocessing file:/content/dataset/audio_dataset/real/27379.wav\n",
            "Preprocessing file:/content/dataset/audio_dataset/real/file15662.wav\n",
            "Preprocessing file:/content/dataset/audio_dataset/real/13335.wav\n",
            "Preprocessing file:/content/dataset/audio_dataset/fake/file30925.mp3\n",
            "Preprocessing file:/content/dataset/audio_dataset/fake/file11075.mp3\n",
            "Preprocessing file:/content/dataset/audio_dataset/real/10890.wav\n",
            "Preprocessing file:/content/dataset/audio_dataset/fake/20438.wav\n",
            "Preprocessing file:/content/dataset/audio_dataset/real/31698.wav\n",
            "Preprocessing file:/content/dataset/audio_dataset/fake/file9741.mp3\n",
            "Preprocessing file:/content/dataset/audio_dataset/real/10988.wav\n",
            "Preprocessing file:/content/dataset/audio_dataset/fake/file29339.mp3\n",
            "Preprocessing file:/content/dataset/audio_dataset/real/5812.wav\n",
            "Preprocessing file:/content/dataset/audio_dataset/fake/file15428.mp3\n",
            "Preprocessing file:/content/dataset/audio_dataset/real/27615.wav\n",
            "Preprocessing file:/content/dataset/audio_dataset/fake/file5912.mp3\n",
            "Preprocessing file:/content/dataset/audio_dataset/real/file12588.wav\n",
            "Preprocessing file:/content/dataset/audio_dataset/real/file31751.wav\n",
            "Preprocessing file:/content/dataset/audio_dataset/fake/24856.wav\n",
            "Preprocessing file:/content/dataset/audio_dataset/real/file1481.wav\n",
            "Preprocessing file:/content/dataset/audio_dataset/real/file24449.wav\n",
            "Preprocessing file:/content/dataset/audio_dataset/real/22822.wav\n",
            "Preprocessing file:/content/dataset/audio_dataset/real/9949.wav\n",
            "Preprocessing file:/content/dataset/audio_dataset/real/file9951.wav\n",
            "Preprocessing file:/content/dataset/audio_dataset/fake/file2798.mp3\n",
            "Preprocessing file:/content/dataset/audio_dataset/real/file22242.wav\n",
            "Preprocessing file:/content/dataset/audio_dataset/real/file224.wav\n",
            "Preprocessing file:/content/dataset/audio_dataset/fake/file13580.mp3\n",
            "Preprocessing file:/content/dataset/audio_dataset/real/file1772.wav\n",
            "Preprocessing file:/content/dataset/audio_dataset/real/file9370.wav\n",
            "Preprocessing file:/content/dataset/audio_dataset/real/file21210.wav\n",
            "Preprocessing file:/content/dataset/audio_dataset/fake/23788.wav\n",
            "Preprocessing file:/content/dataset/audio_dataset/fake/11714.wav\n",
            "Preprocessing file:/content/dataset/audio_dataset/fake/file20332.mp3\n",
            "Preprocessing file:/content/dataset/audio_dataset/fake/27351.wav\n",
            "Preprocessing file:/content/dataset/audio_dataset/real/file4971.wav\n",
            "Preprocessing file:/content/dataset/audio_dataset/real/file19855.wav\n",
            "Preprocessing file:/content/dataset/audio_dataset/real/file14993.wav\n",
            "Preprocessing file:/content/dataset/audio_dataset/fake/18621.wav\n",
            "Preprocessing file:/content/dataset/audio_dataset/fake/file33950.mp3\n",
            "Preprocessing file:/content/dataset/audio_dataset/real/31291.wav\n",
            "Preprocessing file:/content/dataset/audio_dataset/real/28351.wav\n",
            "Preprocessing file:/content/dataset/audio_dataset/fake/19781.wav\n",
            "Preprocessing file:/content/dataset/audio_dataset/real/file18791.wav\n",
            "Preprocessing file:/content/dataset/audio_dataset/real/11813.wav\n",
            "Preprocessing file:/content/dataset/audio_dataset/real/file21149.wav\n",
            "Preprocessing file:/content/dataset/audio_dataset/real/file4601.wav\n",
            "Preprocessing file:/content/dataset/audio_dataset/fake/file29112.mp3\n",
            "Preprocessing file:/content/dataset/audio_dataset/fake/13668.wav\n",
            "Preprocessing file:/content/dataset/audio_dataset/real/11086.wav\n",
            "Preprocessing file:/content/dataset/audio_dataset/real/22761.wav\n",
            "Preprocessing file:/content/dataset/audio_dataset/real/14097.wav\n",
            "Preprocessing file:/content/dataset/audio_dataset/real/file23750.wav\n",
            "Preprocessing file:/content/dataset/audio_dataset/real/6391.wav\n",
            "Preprocessing file:/content/dataset/audio_dataset/fake/file19259.mp3\n",
            "Preprocessing file:/content/dataset/audio_dataset/fake/4626.wav\n",
            "Preprocessing file:/content/dataset/audio_dataset/real/file34183.wav\n",
            "Preprocessing file:/content/dataset/audio_dataset/real/10706.wav\n",
            "Preprocessing file:/content/dataset/audio_dataset/real/file13741.wav\n",
            "Preprocessing file:/content/dataset/audio_dataset/real/file27677.wav\n",
            "Preprocessing file:/content/dataset/audio_dataset/fake/19378.wav\n",
            "Preprocessing file:/content/dataset/audio_dataset/fake/file6484.mp3\n",
            "Preprocessing file:/content/dataset/audio_dataset/fake/25240.wav\n",
            "Preprocessing file:/content/dataset/audio_dataset/fake/file17097.mp3\n",
            "Preprocessing file:/content/dataset/audio_dataset/real/file783.wav\n",
            "Preprocessing file:/content/dataset/audio_dataset/fake/file13085.wav\n",
            "Preprocessing file:/content/dataset/audio_dataset/fake/file25626.mp3\n",
            "Preprocessing file:/content/dataset/audio_dataset/real/4192.wav\n",
            "Preprocessing file:/content/dataset/audio_dataset/real/file22141.wav\n",
            "Preprocessing file:/content/dataset/audio_dataset/real/27598.wav\n",
            "Preprocessing file:/content/dataset/audio_dataset/real/4092.wav\n"
          ]
        }
      ]
    },
    {
      "cell_type": "code",
      "source": [],
      "metadata": {
        "id": "3O2ABADET1Hi"
      },
      "execution_count": null,
      "outputs": []
    }
  ],
  "metadata": {
    "colab": {
      "provenance": [],
      "gpuType": "V28",
      "authorship_tag": "ABX9TyPXud0dFuxKEEOn6SbpCQmp",
      "include_colab_link": true
    },
    "kernelspec": {
      "display_name": "Python 3",
      "name": "python3"
    },
    "language_info": {
      "name": "python"
    },
    "accelerator": "TPU"
  },
  "nbformat": 4,
  "nbformat_minor": 0
}